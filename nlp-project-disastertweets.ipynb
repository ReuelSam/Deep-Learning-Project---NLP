{
 "cells": [
  {
   "cell_type": "markdown",
   "metadata": {},
   "source": [
    "### Imports"
   ]
  },
  {
   "cell_type": "code",
   "execution_count": 310,
   "metadata": {
    "execution": {
     "iopub.execute_input": "2021-05-20T09:50:42.167077Z",
     "iopub.status.busy": "2021-05-20T09:50:42.166748Z",
     "iopub.status.idle": "2021-05-20T09:50:42.174601Z",
     "shell.execute_reply": "2021-05-20T09:50:42.172618Z",
     "shell.execute_reply.started": "2021-05-20T09:50:42.167045Z"
    }
   },
   "outputs": [],
   "source": [
    "import pandas as pd \n",
    "import numpy as np \n",
    "\n",
    "from sklearn.model_selection import train_test_split\n",
    "\n",
    "import tensorflow as tf\n",
    "from tensorflow.keras.preprocessing.text import Tokenizer\n",
    "from tensorflow.keras.preprocessing.sequence import pad_sequences\n",
    "from tensorflow.keras.models import Sequential\n",
    "from tensorflow.keras.layers import Embedding, LSTM, Dense, Bidirectional, Flatten, GlobalAveragePooling1D\n",
    "from tensorflow.keras.callbacks import ModelCheckpoint, EarlyStopping\n",
    "\n",
    "import nltk\n",
    "import re\n",
    "from nltk.corpus import stopwords\n",
    "from textblob import Word, TextBlob\n",
    "\n",
    "import matplotlib.pyplot as plt\n",
    "from sklearn.metrics import classification_report, confusion_matrix, accuracy_score\n",
    "import seaborn as sns"
   ]
  },
  {
   "cell_type": "markdown",
   "metadata": {},
   "source": [
    "### Load Dataset"
   ]
  },
  {
   "cell_type": "code",
   "execution_count": 263,
   "metadata": {
    "execution": {
     "iopub.execute_input": "2021-05-20T09:05:27.201248Z",
     "iopub.status.busy": "2021-05-20T09:05:27.200936Z",
     "iopub.status.idle": "2021-05-20T09:05:27.225115Z",
     "shell.execute_reply": "2021-05-20T09:05:27.224324Z",
     "shell.execute_reply.started": "2021-05-20T09:05:27.201220Z"
    }
   },
   "outputs": [],
   "source": [
    "train_df = pd.read_csv('train_data.csv')"
   ]
  },
  {
   "cell_type": "markdown",
   "metadata": {},
   "source": [
    "### Data Preprocessing"
   ]
  },
  {
   "cell_type": "code",
   "execution_count": 264,
   "metadata": {
    "execution": {
     "iopub.execute_input": "2021-05-20T09:05:38.682520Z",
     "iopub.status.busy": "2021-05-20T09:05:38.682202Z",
     "iopub.status.idle": "2021-05-20T09:05:38.689877Z",
     "shell.execute_reply": "2021-05-20T09:05:38.687353Z",
     "shell.execute_reply.started": "2021-05-20T09:05:38.682490Z"
    }
   },
   "outputs": [],
   "source": [
    "train_df.drop(columns=['id','keyword','location'], axis=1, inplace=True)\n",
    "print(train_df.shape)"
   ]
  },
  {
   "cell_type": "code",
   "execution_count": 266,
   "metadata": {
    "execution": {
     "iopub.execute_input": "2021-05-20T09:05:41.314327Z",
     "iopub.status.busy": "2021-05-20T09:05:41.313968Z",
     "iopub.status.idle": "2021-05-20T09:05:41.326618Z",
     "shell.execute_reply": "2021-05-20T09:05:41.325622Z",
     "shell.execute_reply.started": "2021-05-20T09:05:41.314289Z"
    }
   },
   "outputs": [
    {
     "data": {
      "text/html": [
       "<div>\n",
       "<style scoped>\n",
       "    .dataframe tbody tr th:only-of-type {\n",
       "        vertical-align: middle;\n",
       "    }\n",
       "\n",
       "    .dataframe tbody tr th {\n",
       "        vertical-align: top;\n",
       "    }\n",
       "\n",
       "    .dataframe thead th {\n",
       "        text-align: right;\n",
       "    }\n",
       "</style>\n",
       "<table border=\"1\" class=\"dataframe\">\n",
       "  <thead>\n",
       "    <tr style=\"text-align: right;\">\n",
       "      <th></th>\n",
       "      <th>text</th>\n",
       "      <th>target</th>\n",
       "    </tr>\n",
       "  </thead>\n",
       "  <tbody>\n",
       "    <tr>\n",
       "      <th>0</th>\n",
       "      <td>Our Deeds are the Reason of this  # earthquake...</td>\n",
       "      <td>1</td>\n",
       "    </tr>\n",
       "    <tr>\n",
       "      <th>1</th>\n",
       "      <td>Forest fire near La Ronge Sask .  Canada</td>\n",
       "      <td>1</td>\n",
       "    </tr>\n",
       "    <tr>\n",
       "      <th>2</th>\n",
       "      <td>All residents asked to  ' shelter in place '  ...</td>\n",
       "      <td>1</td>\n",
       "    </tr>\n",
       "    <tr>\n",
       "      <th>3</th>\n",
       "      <td>13,000 people receive  # wildfires evacuation ...</td>\n",
       "      <td>1</td>\n",
       "    </tr>\n",
       "    <tr>\n",
       "      <th>4</th>\n",
       "      <td>Just got sent this photo from Ruby  # Alaska a...</td>\n",
       "      <td>1</td>\n",
       "    </tr>\n",
       "  </tbody>\n",
       "</table>\n",
       "</div>"
      ],
      "text/plain": [
       "                                                text  target\n",
       "0  Our Deeds are the Reason of this  # earthquake...       1\n",
       "1           Forest fire near La Ronge Sask .  Canada       1\n",
       "2  All residents asked to  ' shelter in place '  ...       1\n",
       "3  13,000 people receive  # wildfires evacuation ...       1\n",
       "4  Just got sent this photo from Ruby  # Alaska a...       1"
      ]
     },
     "execution_count": 266,
     "metadata": {},
     "output_type": "execute_result"
    }
   ],
   "source": [
    "train_df.head()"
   ]
  },
  {
   "cell_type": "code",
   "execution_count": 267,
   "metadata": {
    "execution": {
     "iopub.execute_input": "2021-05-20T09:05:43.971180Z",
     "iopub.status.busy": "2021-05-20T09:05:43.970873Z",
     "iopub.status.idle": "2021-05-20T09:05:44.762015Z",
     "shell.execute_reply": "2021-05-20T09:05:44.761023Z",
     "shell.execute_reply.started": "2021-05-20T09:05:43.971152Z"
    }
   },
   "outputs": [
    {
     "data": {
      "text/html": [
       "<div>\n",
       "<style scoped>\n",
       "    .dataframe tbody tr th:only-of-type {\n",
       "        vertical-align: middle;\n",
       "    }\n",
       "\n",
       "    .dataframe tbody tr th {\n",
       "        vertical-align: top;\n",
       "    }\n",
       "\n",
       "    .dataframe thead th {\n",
       "        text-align: right;\n",
       "    }\n",
       "</style>\n",
       "<table border=\"1\" class=\"dataframe\">\n",
       "  <thead>\n",
       "    <tr style=\"text-align: right;\">\n",
       "      <th></th>\n",
       "      <th>text</th>\n",
       "      <th>target</th>\n",
       "    </tr>\n",
       "  </thead>\n",
       "  <tbody>\n",
       "    <tr>\n",
       "      <th>0</th>\n",
       "      <td>deed reason earthquake may allah forgive u</td>\n",
       "      <td>1</td>\n",
       "    </tr>\n",
       "    <tr>\n",
       "      <th>1</th>\n",
       "      <td>forest fire near la ronge sask canada</td>\n",
       "      <td>1</td>\n",
       "    </tr>\n",
       "    <tr>\n",
       "      <th>2</th>\n",
       "      <td>resident asked shelter place notified officer ...</td>\n",
       "      <td>1</td>\n",
       "    </tr>\n",
       "    <tr>\n",
       "      <th>3</th>\n",
       "      <td>13000 people receive wildfire evacuation order...</td>\n",
       "      <td>1</td>\n",
       "    </tr>\n",
       "    <tr>\n",
       "      <th>4</th>\n",
       "      <td>got sent photo ruby alaska smoke wildfire pour...</td>\n",
       "      <td>1</td>\n",
       "    </tr>\n",
       "  </tbody>\n",
       "</table>\n",
       "</div>"
      ],
      "text/plain": [
       "                                                text  target\n",
       "0         deed reason earthquake may allah forgive u       1\n",
       "1              forest fire near la ronge sask canada       1\n",
       "2  resident asked shelter place notified officer ...       1\n",
       "3  13000 people receive wildfire evacuation order...       1\n",
       "4  got sent photo ruby alaska smoke wildfire pour...       1"
      ]
     },
     "execution_count": 267,
     "metadata": {},
     "output_type": "execute_result"
    }
   ],
   "source": [
    "train_df[\"text\"]=train_df[\"text\"].apply(lambda x: \" \".join(x.lower() for x in x.split()))\n",
    "train_df[\"text\"]=train_df[\"text\"].str.replace('[^\\w\\s]', '').replace('\\d', '')\n",
    "\n",
    "sw=stopwords.words('english')\n",
    "train_df[\"text\"]=train_df[\"text\"].apply(lambda x: \" \".join(x for x in x.split() if x not in sw))\n",
    "train_df[\"text\"]=train_df[\"text\"].apply(lambda x:\" \".join([Word(word).lemmatize() for word in x.split()]))\n",
    "\n",
    "train_df.head()"
   ]
  },
  {
   "cell_type": "markdown",
   "metadata": {},
   "source": [
    "### Splitting Data"
   ]
  },
  {
   "cell_type": "code",
   "execution_count": 269,
   "metadata": {
    "execution": {
     "iopub.execute_input": "2021-05-20T09:05:51.513123Z",
     "iopub.status.busy": "2021-05-20T09:05:51.512812Z",
     "iopub.status.idle": "2021-05-20T09:05:51.523935Z",
     "shell.execute_reply": "2021-05-20T09:05:51.522973Z",
     "shell.execute_reply.started": "2021-05-20T09:05:51.513094Z"
    }
   },
   "outputs": [
    {
     "name": "stdout",
     "output_type": "stream",
     "text": [
      "(6090,) (6090,) (1523,) (1523,)\n"
     ]
    }
   ],
   "source": [
    "X_train, X_test, y_train, y_test = train_test_split(train_df['text'],train_df['target'], test_size=0.2, random_state=111)\n",
    "print(X_train.shape, y_train.shape, X_test.shape, y_test.shape)"
   ]
  },
  {
   "cell_type": "markdown",
   "metadata": {},
   "source": [
    "### Tokenizing and Padding"
   ]
  },
  {
   "cell_type": "code",
   "execution_count": 271,
   "metadata": {
    "execution": {
     "iopub.execute_input": "2021-05-20T09:05:53.755225Z",
     "iopub.status.busy": "2021-05-20T09:05:53.754547Z",
     "iopub.status.idle": "2021-05-20T09:05:55.112715Z",
     "shell.execute_reply": "2021-05-20T09:05:55.111825Z",
     "shell.execute_reply.started": "2021-05-20T09:05:53.755169Z"
    }
   },
   "outputs": [],
   "source": [
    "vocab_size = 10000\n",
    "oov_token = \"<OOV>\"\n",
    "tokenizer = Tokenizer(num_words=vocab_size, oov_token=oov_token)\n",
    "\n",
    "tokenizer.fit_on_texts(X_train)"
   ]
  },
  {
   "cell_type": "code",
   "execution_count": 273,
   "metadata": {
    "execution": {
     "iopub.execute_input": "2021-05-20T09:05:57.551921Z",
     "iopub.status.busy": "2021-05-20T09:05:57.551571Z",
     "iopub.status.idle": "2021-05-20T09:05:57.651131Z",
     "shell.execute_reply": "2021-05-20T09:05:57.650312Z",
     "shell.execute_reply.started": "2021-05-20T09:05:57.551891Z"
    }
   },
   "outputs": [],
   "source": [
    "X_train = tokenizer.texts_to_sequences(X_train)\n",
    "X_test = tokenizer.texts_to_sequences(X_test)"
   ]
  },
  {
   "cell_type": "code",
   "execution_count": 276,
   "metadata": {
    "execution": {
     "iopub.execute_input": "2021-05-20T09:06:05.608448Z",
     "iopub.status.busy": "2021-05-20T09:06:05.608130Z",
     "iopub.status.idle": "2021-05-20T09:06:05.670231Z",
     "shell.execute_reply": "2021-05-20T09:06:05.669436Z",
     "shell.execute_reply.started": "2021-05-20T09:06:05.608419Z"
    }
   },
   "outputs": [],
   "source": [
    "max_length = 120\n",
    "trunc_type = 'post'\n",
    "pad_type = 'post'\n",
    "\n",
    "X_train_padded = pad_sequences(X_train, maxlen=max_length, truncating=trunc_type, padding=pad_type)\n",
    "X_test_padded = pad_sequences(X_test, maxlen=max_length, truncating=trunc_type, padding=pad_type)"
   ]
  },
  {
   "cell_type": "code",
   "execution_count": 277,
   "metadata": {
    "execution": {
     "iopub.execute_input": "2021-05-20T09:06:08.601385Z",
     "iopub.status.busy": "2021-05-20T09:06:08.601050Z",
     "iopub.status.idle": "2021-05-20T09:06:08.606677Z",
     "shell.execute_reply": "2021-05-20T09:06:08.605568Z",
     "shell.execute_reply.started": "2021-05-20T09:06:08.601353Z"
    }
   },
   "outputs": [
    {
     "name": "stdout",
     "output_type": "stream",
     "text": [
      "(6090, 120) (1523, 120)\n"
     ]
    }
   ],
   "source": [
    "print(X_train_padded.shape, X_test_padded.shape)"
   ]
  },
  {
   "cell_type": "code",
   "execution_count": 278,
   "metadata": {
    "execution": {
     "iopub.execute_input": "2021-05-20T09:06:10.947445Z",
     "iopub.status.busy": "2021-05-20T09:06:10.947105Z",
     "iopub.status.idle": "2021-05-20T09:06:10.957923Z",
     "shell.execute_reply": "2021-05-20T09:06:10.957001Z",
     "shell.execute_reply.started": "2021-05-20T09:06:10.947412Z"
    }
   },
   "outputs": [
    {
     "name": "stdout",
     "output_type": "stream",
     "text": [
      "<class 'numpy.ndarray'> <class 'numpy.ndarray'>\n",
      "<class 'pandas.core.series.Series'> <class 'pandas.core.series.Series'>\n",
      "<class 'numpy.ndarray'> <class 'numpy.ndarray'>\n",
      "<class 'numpy.ndarray'> <class 'numpy.ndarray'>\n"
     ]
    }
   ],
   "source": [
    "print(type(X_train_padded), type(X_test_padded))\n",
    "print(type(y_train), type(y_test))\n",
    "y_train = np.array(y_train)\n",
    "y_test = np.array(y_test)\n",
    "print(type(X_train_padded), type(X_test_padded))\n",
    "print(type(y_train), type(y_test))"
   ]
  },
  {
   "cell_type": "markdown",
   "metadata": {},
   "source": [
    "### Model Creation"
   ]
  },
  {
   "cell_type": "code",
   "execution_count": 279,
   "metadata": {
    "execution": {
     "iopub.execute_input": "2021-05-20T09:06:14.015237Z",
     "iopub.status.busy": "2021-05-20T09:06:14.014919Z",
     "iopub.status.idle": "2021-05-20T09:06:14.019438Z",
     "shell.execute_reply": "2021-05-20T09:06:14.018425Z",
     "shell.execute_reply.started": "2021-05-20T09:06:14.015207Z"
    }
   },
   "outputs": [],
   "source": [
    "embedding_dim = 200"
   ]
  },
  {
   "cell_type": "code",
   "execution_count": 280,
   "metadata": {
    "execution": {
     "iopub.execute_input": "2021-05-20T09:06:15.063464Z",
     "iopub.status.busy": "2021-05-20T09:06:15.063144Z",
     "iopub.status.idle": "2021-05-20T09:06:15.303755Z",
     "shell.execute_reply": "2021-05-20T09:06:15.302910Z",
     "shell.execute_reply.started": "2021-05-20T09:06:15.063432Z"
    }
   },
   "outputs": [],
   "source": [
    "model = Sequential()\n",
    "model.add(Embedding(vocab_size, embedding_dim, input_length=max_length))\n",
    "model.add(LSTM(32, return_sequences=True))\n",
    "model.add(Flatten())\n",
    "model.add(Dense(64, activation=\"relu\"))\n",
    "model.add(Dense(32, activation=\"relu\"))\n",
    "model.add(Dense(1, activation=\"sigmoid\"))"
   ]
  },
  {
   "cell_type": "code",
   "execution_count": 281,
   "metadata": {
    "execution": {
     "iopub.execute_input": "2021-05-20T09:06:17.283863Z",
     "iopub.status.busy": "2021-05-20T09:06:17.283517Z",
     "iopub.status.idle": "2021-05-20T09:06:17.291906Z",
     "shell.execute_reply": "2021-05-20T09:06:17.290941Z",
     "shell.execute_reply.started": "2021-05-20T09:06:17.283832Z"
    }
   },
   "outputs": [
    {
     "name": "stdout",
     "output_type": "stream",
     "text": [
      "Model: \"sequential_27\"\n",
      "_________________________________________________________________\n",
      "Layer (type)                 Output Shape              Param #   \n",
      "=================================================================\n",
      "embedding_27 (Embedding)     (None, 120, 200)          2000000   \n",
      "_________________________________________________________________\n",
      "lstm_35 (LSTM)               (None, 120, 32)           29824     \n",
      "_________________________________________________________________\n",
      "flatten_5 (Flatten)          (None, 3840)              0         \n",
      "_________________________________________________________________\n",
      "dense_74 (Dense)             (None, 64)                245824    \n",
      "_________________________________________________________________\n",
      "dense_75 (Dense)             (None, 32)                2080      \n",
      "_________________________________________________________________\n",
      "dense_76 (Dense)             (None, 1)                 33        \n",
      "=================================================================\n",
      "Total params: 2,277,761\n",
      "Trainable params: 2,277,761\n",
      "Non-trainable params: 0\n",
      "_________________________________________________________________\n"
     ]
    }
   ],
   "source": [
    "model.summary()"
   ]
  },
  {
   "cell_type": "markdown",
   "metadata": {},
   "source": [
    "### Model Compilation"
   ]
  },
  {
   "cell_type": "code",
   "execution_count": 282,
   "metadata": {
    "execution": {
     "iopub.execute_input": "2021-05-20T09:06:19.967242Z",
     "iopub.status.busy": "2021-05-20T09:06:19.966882Z",
     "iopub.status.idle": "2021-05-20T09:06:19.984627Z",
     "shell.execute_reply": "2021-05-20T09:06:19.983784Z",
     "shell.execute_reply.started": "2021-05-20T09:06:19.967200Z"
    }
   },
   "outputs": [],
   "source": [
    "optimizer = tf.keras.optimizers.Adam(lr = 0.0001)\n",
    "model.compile(\n",
    "    loss = \"binary_crossentropy\",\n",
    "    optimizer = optimizer,\n",
    "    metrics = [\"accuracy\"]\n",
    ")"
   ]
  },
  {
   "cell_type": "code",
   "execution_count": 283,
   "metadata": {
    "execution": {
     "iopub.execute_input": "2021-05-20T09:06:22.641863Z",
     "iopub.status.busy": "2021-05-20T09:06:22.641353Z",
     "iopub.status.idle": "2021-05-20T09:06:22.646529Z",
     "shell.execute_reply": "2021-05-20T09:06:22.645079Z",
     "shell.execute_reply.started": "2021-05-20T09:06:22.641805Z"
    }
   },
   "outputs": [],
   "source": [
    "filepath = 'my_checkpoint.ckpt'\n",
    "cp = ModelCheckpoint(\n",
    "    filepath=filepath,\n",
    "    save_weights_only=True,\n",
    "    save_best_only=True,\n",
    "    monitor='val_accuracy',\n",
    "    verbose=1\n",
    ")"
   ]
  },
  {
   "cell_type": "code",
   "execution_count": 284,
   "metadata": {
    "execution": {
     "iopub.execute_input": "2021-05-20T09:06:24.976206Z",
     "iopub.status.busy": "2021-05-20T09:06:24.975885Z",
     "iopub.status.idle": "2021-05-20T09:06:24.982444Z",
     "shell.execute_reply": "2021-05-20T09:06:24.981530Z",
     "shell.execute_reply.started": "2021-05-20T09:06:24.976176Z"
    }
   },
   "outputs": [],
   "source": [
    "ep = EarlyStopping(\n",
    "    monitor='val_accuracy', \n",
    "    patience=7,\n",
    ")"
   ]
  },
  {
   "cell_type": "markdown",
   "metadata": {},
   "source": [
    "### Model Training"
   ]
  },
  {
   "cell_type": "code",
   "execution_count": 285,
   "metadata": {
    "execution": {
     "iopub.execute_input": "2021-05-20T09:06:28.091652Z",
     "iopub.status.busy": "2021-05-20T09:06:28.091319Z",
     "iopub.status.idle": "2021-05-20T09:06:43.177370Z",
     "shell.execute_reply": "2021-05-20T09:06:43.175991Z",
     "shell.execute_reply.started": "2021-05-20T09:06:28.091620Z"
    }
   },
   "outputs": [
    {
     "name": "stdout",
     "output_type": "stream",
     "text": [
      "Epoch 1/15\n",
      "20/20 [==============================] - 3s 62ms/step - loss: 0.6873 - accuracy: 0.5477 - val_loss: 0.6848 - val_accuracy: 0.5599\n",
      "\n",
      "Epoch 00001: val_accuracy improved from -inf to 0.55993, saving model to my_checkpoint.ckpt\n",
      "Epoch 2/15\n",
      "20/20 [==============================] - 1s 46ms/step - loss: 0.6832 - accuracy: 0.5651 - val_loss: 0.6826 - val_accuracy: 0.5599\n",
      "\n",
      "Epoch 00002: val_accuracy did not improve from 0.55993\n",
      "Epoch 3/15\n",
      "20/20 [==============================] - 1s 41ms/step - loss: 0.6799 - accuracy: 0.5662 - val_loss: 0.6789 - val_accuracy: 0.5599\n",
      "\n",
      "Epoch 00003: val_accuracy did not improve from 0.55993\n",
      "Epoch 4/15\n",
      "20/20 [==============================] - 1s 41ms/step - loss: 0.6705 - accuracy: 0.5783 - val_loss: 0.6706 - val_accuracy: 0.5599\n",
      "\n",
      "Epoch 00004: val_accuracy did not improve from 0.55993\n",
      "Epoch 5/15\n",
      "20/20 [==============================] - 1s 39ms/step - loss: 0.6617 - accuracy: 0.5720 - val_loss: 0.6552 - val_accuracy: 0.5665\n",
      "\n",
      "Epoch 00005: val_accuracy improved from 0.55993 to 0.56650, saving model to my_checkpoint.ckpt\n",
      "Epoch 6/15\n",
      "20/20 [==============================] - 1s 41ms/step - loss: 0.6349 - accuracy: 0.6084 - val_loss: 0.6171 - val_accuracy: 0.6814\n",
      "\n",
      "Epoch 00006: val_accuracy improved from 0.56650 to 0.68145, saving model to my_checkpoint.ckpt\n",
      "Epoch 7/15\n",
      "20/20 [==============================] - 1s 41ms/step - loss: 0.5730 - accuracy: 0.7539 - val_loss: 0.5388 - val_accuracy: 0.7521\n",
      "\n",
      "Epoch 00007: val_accuracy improved from 0.68145 to 0.75205, saving model to my_checkpoint.ckpt\n",
      "Epoch 8/15\n",
      "20/20 [==============================] - 1s 40ms/step - loss: 0.4521 - accuracy: 0.8339 - val_loss: 0.5364 - val_accuracy: 0.7652\n",
      "\n",
      "Epoch 00008: val_accuracy improved from 0.75205 to 0.76519, saving model to my_checkpoint.ckpt\n",
      "Epoch 9/15\n",
      "20/20 [==============================] - 1s 40ms/step - loss: 0.3448 - accuracy: 0.8641 - val_loss: 0.4809 - val_accuracy: 0.8054\n",
      "\n",
      "Epoch 00009: val_accuracy improved from 0.76519 to 0.80542, saving model to my_checkpoint.ckpt\n",
      "Epoch 10/15\n",
      "20/20 [==============================] - 1s 40ms/step - loss: 0.2501 - accuracy: 0.9135 - val_loss: 0.5020 - val_accuracy: 0.8062\n",
      "\n",
      "Epoch 00010: val_accuracy improved from 0.80542 to 0.80624, saving model to my_checkpoint.ckpt\n",
      "Epoch 11/15\n",
      "20/20 [==============================] - 1s 41ms/step - loss: 0.2092 - accuracy: 0.9232 - val_loss: 0.5227 - val_accuracy: 0.7874\n",
      "\n",
      "Epoch 00011: val_accuracy did not improve from 0.80624\n",
      "Epoch 12/15\n",
      "20/20 [==============================] - 1s 40ms/step - loss: 0.1776 - accuracy: 0.9362 - val_loss: 0.5598 - val_accuracy: 0.7989\n",
      "\n",
      "Epoch 00012: val_accuracy did not improve from 0.80624\n",
      "Epoch 13/15\n",
      "20/20 [==============================] - 1s 39ms/step - loss: 0.1469 - accuracy: 0.9462 - val_loss: 0.6069 - val_accuracy: 0.7742\n",
      "\n",
      "Epoch 00013: val_accuracy did not improve from 0.80624\n",
      "Epoch 14/15\n",
      "20/20 [==============================] - 1s 51ms/step - loss: 0.1190 - accuracy: 0.9577 - val_loss: 0.6508 - val_accuracy: 0.7906\n",
      "\n",
      "Epoch 00014: val_accuracy did not improve from 0.80624\n",
      "Epoch 15/15\n",
      "20/20 [==============================] - 1s 42ms/step - loss: 0.0927 - accuracy: 0.9659 - val_loss: 0.7131 - val_accuracy: 0.7865\n",
      "\n",
      "Epoch 00015: val_accuracy did not improve from 0.80624\n"
     ]
    }
   ],
   "source": [
    "epochs=15\n",
    "history = model.fit(\n",
    "    X_train_padded, y_train,\n",
    "    validation_split = 0.2,\n",
    "    callbacks=[cp,ep],\n",
    "    batch_size=256,\n",
    "    epochs=epochs\n",
    ")"
   ]
  },
  {
   "cell_type": "markdown",
   "metadata": {},
   "source": [
    "### Graphs"
   ]
  },
  {
   "cell_type": "code",
   "execution_count": 286,
   "metadata": {
    "execution": {
     "iopub.execute_input": "2021-05-20T09:07:01.643285Z",
     "iopub.status.busy": "2021-05-20T09:07:01.642965Z",
     "iopub.status.idle": "2021-05-20T09:07:01.955206Z",
     "shell.execute_reply": "2021-05-20T09:07:01.954201Z",
     "shell.execute_reply.started": "2021-05-20T09:07:01.643253Z"
    }
   },
   "outputs": [
    {
     "name": "stdout",
     "output_type": "stream",
     "text": [
      "dict_keys(['loss', 'accuracy', 'val_loss', 'val_accuracy'])\n"
     ]
    },
    {
     "data": {
      "image/png": "[encoded data removed]",
      "text/plain": [
       "<Figure size 432x288 with 1 Axes>"
      ]
     },
     "metadata": {
      "needs_background": "light"
     },
     "output_type": "display_data"
    },
    {
     "data": {
      "image/png": "[encoded data removed]",
      "text/plain": [
       "<Figure size 432x288 with 1 Axes>"
      ]
     },
     "metadata": {
      "needs_background": "light"
     },
     "output_type": "display_data"
    }
   ],
   "source": [
    "print(history.history.keys())\n",
    "plt.plot(history.history['accuracy'],color='c')\n",
    "plt.plot(history.history['val_accuracy'],color='m')\n",
    "plt.title('model accuracy')\n",
    "plt.ylabel('accuracy')\n",
    "plt.xlabel('epoch')\n",
    "plt.legend(['train', 'validation'], loc='upper left')\n",
    "plt.show()\n",
    "\n",
    "plt.plot(history.history['loss'])\n",
    "plt.plot(history.history['val_loss'])\n",
    "plt.legend(['train', 'validation'], loc='upper left')\n",
    "plt.title('model loss')\n",
    "plt.ylabel('loss')\n",
    "plt.xlabel('epoch')\n",
    "plt.show()"
   ]
  },
  {
   "cell_type": "markdown",
   "metadata": {},
   "source": [
    "### Model Evaluation"
   ]
  },
  {
   "cell_type": "code",
   "execution_count": 287,
   "metadata": {
    "execution": {
     "iopub.execute_input": "2021-05-20T09:07:15.140773Z",
     "iopub.status.busy": "2021-05-20T09:07:15.140310Z",
     "iopub.status.idle": "2021-05-20T09:07:15.203320Z",
     "shell.execute_reply": "2021-05-20T09:07:15.202495Z",
     "shell.execute_reply.started": "2021-05-20T09:07:15.140729Z"
    }
   },
   "outputs": [
    {
     "data": {
      "text/plain": [
       "<tensorflow.python.training.tracking.util.CheckpointLoadStatus at 0x7f62a6a58d90>"
      ]
     },
     "execution_count": 287,
     "metadata": {},
     "output_type": "execute_result"
    }
   ],
   "source": [
    "model.load_weights(filepath)"
   ]
  },
  {
   "cell_type": "code",
   "execution_count": 290,
   "metadata": {
    "execution": {
     "iopub.execute_input": "2021-05-20T09:15:43.237007Z",
     "iopub.status.busy": "2021-05-20T09:15:43.236653Z",
     "iopub.status.idle": "2021-05-20T09:15:43.497605Z",
     "shell.execute_reply": "2021-05-20T09:15:43.496832Z",
     "shell.execute_reply.started": "2021-05-20T09:15:43.236975Z"
    }
   },
   "outputs": [
    {
     "name": "stdout",
     "output_type": "stream",
     "text": [
      "48/48 [==============================] - 0s 4ms/step - loss: 0.4820 - accuracy: 0.8122\n"
     ]
    },
    {
     "data": {
      "text/plain": [
       "[0.4819752275943756, 0.8122127652168274]"
      ]
     },
     "execution_count": 290,
     "metadata": {},
     "output_type": "execute_result"
    }
   ],
   "source": [
    "model.evaluate(X_test_padded, y_test)"
   ]
  },
  {
   "cell_type": "markdown",
   "metadata": {},
   "source": [
    "### Model Saving"
   ]
  },
  {
   "cell_type": "code",
   "execution_count": 311,
   "metadata": {
    "execution": {
     "iopub.execute_input": "2021-05-20T09:50:57.277827Z",
     "iopub.status.busy": "2021-05-20T09:50:57.277439Z",
     "iopub.status.idle": "2021-05-20T09:50:57.373739Z",
     "shell.execute_reply": "2021-05-20T09:50:57.372663Z",
     "shell.execute_reply.started": "2021-05-20T09:50:57.277793Z"
    }
   },
   "outputs": [],
   "source": [
    "model.save('./model/model_ver3.h5')"
   ]
  },
  {
   "cell_type": "markdown",
   "metadata": {},
   "source": [
    "### Model Loading"
   ]
  },
  {
   "cell_type": "code",
   "execution_count": 308,
   "metadata": {
    "execution": {
     "iopub.execute_input": "2021-05-20T09:50:17.809737Z",
     "iopub.status.busy": "2021-05-20T09:50:17.809405Z",
     "iopub.status.idle": "2021-05-20T09:50:18.130941Z",
     "shell.execute_reply": "2021-05-20T09:50:18.130017Z",
     "shell.execute_reply.started": "2021-05-20T09:50:17.809703Z"
    }
   },
   "outputs": [],
   "source": [
    "mymodel = tf.keras.models.load_model('./model/model_ver3.h5')"
   ]
  },
  {
   "cell_type": "code",
   "execution_count": null,
   "metadata": {},
   "outputs": [],
   "source": [
    "mymodel.summary()"
   ]
  },
  {
   "cell_type": "markdown",
   "metadata": {},
   "source": [
    "### Predicting Test Data"
   ]
  },
  {
   "cell_type": "code",
   "execution_count": 294,
   "metadata": {
    "execution": {
     "iopub.execute_input": "2021-05-20T09:16:59.348646Z",
     "iopub.status.busy": "2021-05-20T09:16:59.348282Z",
     "iopub.status.idle": "2021-05-20T09:16:59.820762Z",
     "shell.execute_reply": "2021-05-20T09:16:59.819840Z",
     "shell.execute_reply.started": "2021-05-20T09:16:59.348608Z"
    }
   },
   "outputs": [],
   "source": [
    "predictions = model.predict_classes(X_test_padded)"
   ]
  },
  {
   "cell_type": "markdown",
   "metadata": {},
   "source": [
    "### Accuracy"
   ]
  },
  {
   "cell_type": "code",
   "execution_count": 306,
   "metadata": {
    "execution": {
     "iopub.execute_input": "2021-05-20T09:41:07.427048Z",
     "iopub.status.busy": "2021-05-20T09:41:07.426718Z",
     "iopub.status.idle": "2021-05-20T09:41:07.433299Z",
     "shell.execute_reply": "2021-05-20T09:41:07.432125Z",
     "shell.execute_reply.started": "2021-05-20T09:41:07.427017Z"
    }
   },
   "outputs": [
    {
     "name": "stdout",
     "output_type": "stream",
     "text": [
      "Testing Accuracy:  0.8122127380170716\n"
     ]
    }
   ],
   "source": [
    "accuracy = accuracy_score(y_test, predictions)\n",
    "print(\"Testing Accuracy: \", accuracy)"
   ]
  },
  {
   "cell_type": "markdown",
   "metadata": {},
   "source": [
    "### Confusion Matrix"
   ]
  },
  {
   "cell_type": "code",
   "execution_count": 309,
   "metadata": {
    "execution": {
     "iopub.execute_input": "2021-05-20T09:50:22.613641Z",
     "iopub.status.busy": "2021-05-20T09:50:22.613276Z",
     "iopub.status.idle": "2021-05-20T09:50:22.842155Z",
     "shell.execute_reply": "2021-05-20T09:50:22.840855Z",
     "shell.execute_reply.started": "2021-05-20T09:50:22.613575Z"
    }
   },
   "outputs": [
    {
     "name": "stdout",
     "output_type": "stream",
     "text": [
      "Confusion Matrix\n",
      "AxesSubplot(0.125,0.125;0.62x0.755)\n",
      "              precision    recall  f1-score   support\n",
      "\n",
      "           0    0.79797   0.90034   0.84607       873\n",
      "           1    0.83829   0.69385   0.75926       650\n",
      "\n",
      "    accuracy                        0.81221      1523\n",
      "   macro avg    0.81813   0.79709   0.80267      1523\n",
      "weighted avg    0.81518   0.81221   0.80902      1523\n",
      "\n"
     ]
    },
    {
     "data": {
      "image/png": "[encoded data removed]",
      "text/plain": [
       "<Figure size 432x288 with 2 Axes>"
      ]
     },
     "metadata": {
      "needs_background": "light"
     },
     "output_type": "display_data"
    }
   ],
   "source": [
    "print('Confusion Matrix')\n",
    "cm = confusion_matrix(y_test, predictions)\n",
    "print(sns.heatmap(confusion_matrix(y_test, predictions),annot=True,fmt=\"d\"))\n",
    "print(classification_report(y_test, predictions, digits=5))"
   ]
  },
  {
   "cell_type": "code",
   "execution_count": null,
   "metadata": {},
   "outputs": [],
   "source": []
  }
 ],
 "metadata": {
  "kernelspec": {
   "display_name": "Python 3",
   "language": "python",
   "name": "python3"
  },
  "language_info": {
   "codemirror_mode": {
    "name": "ipython",
    "version": 3
   },
   "file_extension": ".py",
   "mimetype": "text/x-python",
   "name": "python",
   "nbconvert_exporter": "python",
   "pygments_lexer": "ipython3",
   "version": "3.7.9"
  }
 },
 "nbformat": 4,
 "nbformat_minor": 4
}

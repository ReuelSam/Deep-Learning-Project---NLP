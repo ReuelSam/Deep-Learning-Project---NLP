{
 "cells": [
  {
   "cell_type": "markdown",
   "metadata": {},
   "source": [
    "### Imports"
   ]
  },
  {
   "cell_type": "code",
   "execution_count": 1,
   "metadata": {
    "execution": {
     "iopub.execute_input": "2021-05-20T20:26:17.070200Z",
     "iopub.status.busy": "2021-05-20T20:26:17.069902Z",
     "iopub.status.idle": "2021-05-20T20:26:23.104849Z",
     "shell.execute_reply": "2021-05-20T20:26:23.103988Z",
     "shell.execute_reply.started": "2021-05-20T20:26:17.070127Z"
    }
   },
   "outputs": [],
   "source": [
    "import pandas as pd \n",
    "import numpy as np \n",
    "\n",
    "from sklearn.model_selection import train_test_split\n",
    "\n",
    "import tensorflow as tf\n",
    "from tensorflow.keras.preprocessing.text import Tokenizer\n",
    "from tensorflow.keras.preprocessing.sequence import pad_sequences\n",
    "from tensorflow.keras.models import Sequential\n",
    "from tensorflow.keras.layers import Embedding, LSTM, Dense, Bidirectional, Flatten, GlobalAveragePooling1D\n",
    "from tensorflow.keras.callbacks import ModelCheckpoint, EarlyStopping\n",
    "\n",
    "import nltk\n",
    "import re\n",
    "from nltk.corpus import stopwords\n",
    "from textblob import Word, TextBlob\n",
    "\n",
    "import matplotlib.pyplot as plt\n",
    "from sklearn.metrics import classification_report, confusion_matrix, accuracy_score\n",
    "import seaborn as sns"
   ]
  },
  {
   "cell_type": "markdown",
   "metadata": {},
   "source": [
    "### Load Dataset"
   ]
  },
  {
   "cell_type": "code",
   "execution_count": 2,
   "metadata": {
    "execution": {
     "iopub.execute_input": "2021-05-20T20:26:43.380269Z",
     "iopub.status.busy": "2021-05-20T20:26:43.379940Z",
     "iopub.status.idle": "2021-05-20T20:26:43.429913Z",
     "shell.execute_reply": "2021-05-20T20:26:43.429076Z",
     "shell.execute_reply.started": "2021-05-20T20:26:43.380241Z"
    }
   },
   "outputs": [],
   "source": [
    "train_df = pd.read_csv('train_data.csv')"
   ]
  },
  {
   "cell_type": "markdown",
   "metadata": {},
   "source": [
    "### Data Preprocessing"
   ]
  },
  {
   "cell_type": "code",
   "execution_count": 3,
   "metadata": {
    "execution": {
     "iopub.execute_input": "2021-05-20T20:26:50.850596Z",
     "iopub.status.busy": "2021-05-20T20:26:50.850259Z",
     "iopub.status.idle": "2021-05-20T20:26:50.863701Z",
     "shell.execute_reply": "2021-05-20T20:26:50.862772Z",
     "shell.execute_reply.started": "2021-05-20T20:26:50.850564Z"
    }
   },
   "outputs": [
    {
     "name": "stdout",
     "output_type": "stream",
     "text": [
      "(7613, 2)\n"
     ]
    }
   ],
   "source": [
    "train_df.drop(columns=['id','keyword','location'], axis=1, inplace=True)\n",
    "print(train_df.shape)"
   ]
  },
  {
   "cell_type": "code",
   "execution_count": 4,
   "metadata": {
    "execution": {
     "iopub.execute_input": "2021-05-20T20:27:10.891175Z",
     "iopub.status.busy": "2021-05-20T20:27:10.890844Z",
     "iopub.status.idle": "2021-05-20T20:27:10.907210Z",
     "shell.execute_reply": "2021-05-20T20:27:10.906236Z",
     "shell.execute_reply.started": "2021-05-20T20:27:10.891147Z"
    }
   },
   "outputs": [
    {
     "data": {
      "text/html": [
       "<div>\n",
       "<style scoped>\n",
       "    .dataframe tbody tr th:only-of-type {\n",
       "        vertical-align: middle;\n",
       "    }\n",
       "\n",
       "    .dataframe tbody tr th {\n",
       "        vertical-align: top;\n",
       "    }\n",
       "\n",
       "    .dataframe thead th {\n",
       "        text-align: right;\n",
       "    }\n",
       "</style>\n",
       "<table border=\"1\" class=\"dataframe\">\n",
       "  <thead>\n",
       "    <tr style=\"text-align: right;\">\n",
       "      <th></th>\n",
       "      <th>text</th>\n",
       "      <th>target</th>\n",
       "    </tr>\n",
       "  </thead>\n",
       "  <tbody>\n",
       "    <tr>\n",
       "      <th>0</th>\n",
       "      <td>Our Deeds are the Reason of this  # earthquake...</td>\n",
       "      <td>1</td>\n",
       "    </tr>\n",
       "    <tr>\n",
       "      <th>1</th>\n",
       "      <td>Forest fire near La Ronge Sask .  Canada</td>\n",
       "      <td>1</td>\n",
       "    </tr>\n",
       "    <tr>\n",
       "      <th>2</th>\n",
       "      <td>All residents asked to  ' shelter in place '  ...</td>\n",
       "      <td>1</td>\n",
       "    </tr>\n",
       "    <tr>\n",
       "      <th>3</th>\n",
       "      <td>13,000 people receive  # wildfires evacuation ...</td>\n",
       "      <td>1</td>\n",
       "    </tr>\n",
       "    <tr>\n",
       "      <th>4</th>\n",
       "      <td>Just got sent this photo from Ruby  # Alaska a...</td>\n",
       "      <td>1</td>\n",
       "    </tr>\n",
       "  </tbody>\n",
       "</table>\n",
       "</div>"
      ],
      "text/plain": [
       "                                                text  target\n",
       "0  Our Deeds are the Reason of this  # earthquake...       1\n",
       "1           Forest fire near La Ronge Sask .  Canada       1\n",
       "2  All residents asked to  ' shelter in place '  ...       1\n",
       "3  13,000 people receive  # wildfires evacuation ...       1\n",
       "4  Just got sent this photo from Ruby  # Alaska a...       1"
      ]
     },
     "execution_count": 4,
     "metadata": {},
     "output_type": "execute_result"
    }
   ],
   "source": [
    "train_df.head()"
   ]
  },
  {
   "cell_type": "code",
   "execution_count": 5,
   "metadata": {
    "execution": {
     "iopub.execute_input": "2021-05-20T20:27:11.738160Z",
     "iopub.status.busy": "2021-05-20T20:27:11.737835Z",
     "iopub.status.idle": "2021-05-20T20:27:14.258043Z",
     "shell.execute_reply": "2021-05-20T20:27:14.257062Z",
     "shell.execute_reply.started": "2021-05-20T20:27:11.738130Z"
    }
   },
   "outputs": [
    {
     "data": {
      "text/html": [
       "<div>\n",
       "<style scoped>\n",
       "    .dataframe tbody tr th:only-of-type {\n",
       "        vertical-align: middle;\n",
       "    }\n",
       "\n",
       "    .dataframe tbody tr th {\n",
       "        vertical-align: top;\n",
       "    }\n",
       "\n",
       "    .dataframe thead th {\n",
       "        text-align: right;\n",
       "    }\n",
       "</style>\n",
       "<table border=\"1\" class=\"dataframe\">\n",
       "  <thead>\n",
       "    <tr style=\"text-align: right;\">\n",
       "      <th></th>\n",
       "      <th>text</th>\n",
       "      <th>target</th>\n",
       "    </tr>\n",
       "  </thead>\n",
       "  <tbody>\n",
       "    <tr>\n",
       "      <th>0</th>\n",
       "      <td>deed reason earthquake may allah forgive u</td>\n",
       "      <td>1</td>\n",
       "    </tr>\n",
       "    <tr>\n",
       "      <th>1</th>\n",
       "      <td>forest fire near la ronge sask canada</td>\n",
       "      <td>1</td>\n",
       "    </tr>\n",
       "    <tr>\n",
       "      <th>2</th>\n",
       "      <td>resident asked shelter place notified officer ...</td>\n",
       "      <td>1</td>\n",
       "    </tr>\n",
       "    <tr>\n",
       "      <th>3</th>\n",
       "      <td>13000 people receive wildfire evacuation order...</td>\n",
       "      <td>1</td>\n",
       "    </tr>\n",
       "    <tr>\n",
       "      <th>4</th>\n",
       "      <td>got sent photo ruby alaska smoke wildfire pour...</td>\n",
       "      <td>1</td>\n",
       "    </tr>\n",
       "  </tbody>\n",
       "</table>\n",
       "</div>"
      ],
      "text/plain": [
       "                                                text  target\n",
       "0         deed reason earthquake may allah forgive u       1\n",
       "1              forest fire near la ronge sask canada       1\n",
       "2  resident asked shelter place notified officer ...       1\n",
       "3  13000 people receive wildfire evacuation order...       1\n",
       "4  got sent photo ruby alaska smoke wildfire pour...       1"
      ]
     },
     "execution_count": 5,
     "metadata": {},
     "output_type": "execute_result"
    }
   ],
   "source": [
    "train_df[\"text\"]=train_df[\"text\"].apply(lambda x: \" \".join(x.lower() for x in x.split()))\n",
    "train_df[\"text\"]=train_df[\"text\"].str.replace('[^\\w\\s]', '').replace('\\d', '')\n",
    "\n",
    "sw=stopwords.words('english')\n",
    "train_df[\"text\"]=train_df[\"text\"].apply(lambda x: \" \".join(x for x in x.split() if x not in sw))\n",
    "train_df[\"text\"]=train_df[\"text\"].apply(lambda x:\" \".join([Word(word).lemmatize() for word in x.split()]))\n",
    "\n",
    "train_df.head()"
   ]
  },
  {
   "cell_type": "markdown",
   "metadata": {},
   "source": [
    "### Splitting Data"
   ]
  },
  {
   "cell_type": "code",
   "execution_count": 6,
   "metadata": {
    "execution": {
     "iopub.execute_input": "2021-05-20T20:27:14.509510Z",
     "iopub.status.busy": "2021-05-20T20:27:14.509178Z",
     "iopub.status.idle": "2021-05-20T20:27:14.518955Z",
     "shell.execute_reply": "2021-05-20T20:27:14.517913Z",
     "shell.execute_reply.started": "2021-05-20T20:27:14.509477Z"
    }
   },
   "outputs": [
    {
     "name": "stdout",
     "output_type": "stream",
     "text": [
      "(6090,) (6090,) (1523,) (1523,)\n"
     ]
    }
   ],
   "source": [
    "X_train, X_test, y_train, y_test = train_test_split(train_df['text'],train_df['target'], test_size=0.2, random_state=111)\n",
    "print(X_train.shape, y_train.shape, X_test.shape, y_test.shape)"
   ]
  },
  {
   "cell_type": "markdown",
   "metadata": {},
   "source": [
    "### Tokenizing"
   ]
  },
  {
   "cell_type": "code",
   "execution_count": 7,
   "metadata": {
    "execution": {
     "iopub.execute_input": "2021-05-20T20:28:05.148798Z",
     "iopub.status.busy": "2021-05-20T20:28:05.148432Z",
     "iopub.status.idle": "2021-05-20T20:28:05.263324Z",
     "shell.execute_reply": "2021-05-20T20:28:05.262369Z",
     "shell.execute_reply.started": "2021-05-20T20:28:05.148768Z"
    }
   },
   "outputs": [],
   "source": [
    "vocab_size = 10000\n",
    "oov_token = \"<OOV>\"\n",
    "tokenizer = Tokenizer(num_words=vocab_size, oov_token=oov_token)\n",
    "\n",
    "tokenizer.fit_on_texts(X_train)"
   ]
  },
  {
   "cell_type": "code",
   "execution_count": 8,
   "metadata": {
    "execution": {
     "iopub.execute_input": "2021-05-20T20:28:06.410956Z",
     "iopub.status.busy": "2021-05-20T20:28:06.410590Z",
     "iopub.status.idle": "2021-05-20T20:28:06.516333Z",
     "shell.execute_reply": "2021-05-20T20:28:06.515476Z",
     "shell.execute_reply.started": "2021-05-20T20:28:06.410926Z"
    }
   },
   "outputs": [],
   "source": [
    "X_train = tokenizer.texts_to_sequences(X_train)\n",
    "X_test = tokenizer.texts_to_sequences(X_test)"
   ]
  },
  {
   "cell_type": "code",
   "execution_count": 9,
   "metadata": {
    "execution": {
     "iopub.execute_input": "2021-05-20T20:28:07.597053Z",
     "iopub.status.busy": "2021-05-20T20:28:07.596717Z",
     "iopub.status.idle": "2021-05-20T20:28:07.657357Z",
     "shell.execute_reply": "2021-05-20T20:28:07.656561Z",
     "shell.execute_reply.started": "2021-05-20T20:28:07.597024Z"
    }
   },
   "outputs": [],
   "source": [
    "max_length = 120\n",
    "trunc_type = 'post'\n",
    "pad_type = 'post'\n",
    "\n",
    "X_train_padded = pad_sequences(X_train, maxlen=max_length, truncating=trunc_type, padding=pad_type)\n",
    "X_test_padded = pad_sequences(X_test, maxlen=max_length, truncating=trunc_type, padding=pad_type)"
   ]
  },
  {
   "cell_type": "code",
   "execution_count": 10,
   "metadata": {
    "execution": {
     "iopub.execute_input": "2021-05-20T20:28:08.796168Z",
     "iopub.status.busy": "2021-05-20T20:28:08.795845Z",
     "iopub.status.idle": "2021-05-20T20:28:08.801176Z",
     "shell.execute_reply": "2021-05-20T20:28:08.800028Z",
     "shell.execute_reply.started": "2021-05-20T20:28:08.796138Z"
    }
   },
   "outputs": [
    {
     "name": "stdout",
     "output_type": "stream",
     "text": [
      "(6090, 120) (1523, 120)\n"
     ]
    }
   ],
   "source": [
    "print(X_train_padded.shape, X_test_padded.shape)"
   ]
  },
  {
   "cell_type": "code",
   "execution_count": 11,
   "metadata": {
    "execution": {
     "iopub.execute_input": "2021-05-20T20:28:12.341957Z",
     "iopub.status.busy": "2021-05-20T20:28:12.341647Z",
     "iopub.status.idle": "2021-05-20T20:28:12.348803Z",
     "shell.execute_reply": "2021-05-20T20:28:12.347957Z",
     "shell.execute_reply.started": "2021-05-20T20:28:12.341930Z"
    }
   },
   "outputs": [
    {
     "name": "stdout",
     "output_type": "stream",
     "text": [
      "<class 'numpy.ndarray'> <class 'numpy.ndarray'>\n",
      "<class 'pandas.core.series.Series'> <class 'pandas.core.series.Series'>\n",
      "<class 'numpy.ndarray'> <class 'numpy.ndarray'>\n",
      "<class 'numpy.ndarray'> <class 'numpy.ndarray'>\n"
     ]
    }
   ],
   "source": [
    "print(type(X_train_padded), type(X_test_padded))\n",
    "print(type(y_train), type(y_test))\n",
    "y_train = np.array(y_train)\n",
    "y_test = np.array(y_test)\n",
    "print(type(X_train_padded), type(X_test_padded))\n",
    "print(type(y_train), type(y_test))"
   ]
  },
  {
   "cell_type": "markdown",
   "metadata": {},
   "source": [
    "### Model Creation"
   ]
  },
  {
   "cell_type": "code",
   "execution_count": 107,
   "metadata": {
    "execution": {
     "iopub.execute_input": "2021-05-20T20:40:05.300726Z",
     "iopub.status.busy": "2021-05-20T20:40:05.300341Z",
     "iopub.status.idle": "2021-05-20T20:40:05.304303Z",
     "shell.execute_reply": "2021-05-20T20:40:05.303429Z",
     "shell.execute_reply.started": "2021-05-20T20:40:05.300693Z"
    }
   },
   "outputs": [],
   "source": [
    "embedding_dim = 300"
   ]
  },
  {
   "cell_type": "code",
   "execution_count": 117,
   "metadata": {
    "execution": {
     "iopub.execute_input": "2021-05-20T20:40:57.093616Z",
     "iopub.status.busy": "2021-05-20T20:40:57.093274Z",
     "iopub.status.idle": "2021-05-20T20:40:57.328047Z",
     "shell.execute_reply": "2021-05-20T20:40:57.327223Z",
     "shell.execute_reply.started": "2021-05-20T20:40:57.093584Z"
    }
   },
   "outputs": [],
   "source": [
    "model = Sequential()\n",
    "model.add(Embedding(vocab_size, embedding_dim, input_length=max_length))\n",
    "model.add(LSTM(32, return_sequences=True))\n",
    "model.add(Flatten())\n",
    "model.add(Dense(32, activation=\"relu\"))\n",
    "model.add(Dense(1, activation=\"sigmoid\"))"
   ]
  },
  {
   "cell_type": "code",
   "execution_count": 118,
   "metadata": {
    "execution": {
     "iopub.execute_input": "2021-05-20T20:40:58.364127Z",
     "iopub.status.busy": "2021-05-20T20:40:58.363810Z",
     "iopub.status.idle": "2021-05-20T20:40:58.373825Z",
     "shell.execute_reply": "2021-05-20T20:40:58.372688Z",
     "shell.execute_reply.started": "2021-05-20T20:40:58.364099Z"
    }
   },
   "outputs": [
    {
     "name": "stdout",
     "output_type": "stream",
     "text": [
      "Model: \"sequential_10\"\n",
      "_________________________________________________________________\n",
      "Layer (type)                 Output Shape              Param #   \n",
      "=================================================================\n",
      "embedding_10 (Embedding)     (None, 120, 300)          3000000   \n",
      "_________________________________________________________________\n",
      "lstm_10 (LSTM)               (None, 120, 32)           42624     \n",
      "_________________________________________________________________\n",
      "flatten_10 (Flatten)         (None, 3840)              0         \n",
      "_________________________________________________________________\n",
      "dense_22 (Dense)             (None, 32)                122912    \n",
      "_________________________________________________________________\n",
      "dense_23 (Dense)             (None, 1)                 33        \n",
      "=================================================================\n",
      "Total params: 3,165,569\n",
      "Trainable params: 3,165,569\n",
      "Non-trainable params: 0\n",
      "_________________________________________________________________\n"
     ]
    }
   ],
   "source": [
    "model.summary()"
   ]
  },
  {
   "cell_type": "markdown",
   "metadata": {},
   "source": [
    "### Model Compilation"
   ]
  },
  {
   "cell_type": "code",
   "execution_count": 119,
   "metadata": {
    "execution": {
     "iopub.execute_input": "2021-05-20T20:41:00.510869Z",
     "iopub.status.busy": "2021-05-20T20:41:00.510542Z",
     "iopub.status.idle": "2021-05-20T20:41:00.522747Z",
     "shell.execute_reply": "2021-05-20T20:41:00.521728Z",
     "shell.execute_reply.started": "2021-05-20T20:41:00.510834Z"
    }
   },
   "outputs": [],
   "source": [
    "optimizer = tf.keras.optimizers.Adam(lr = 0.0001)\n",
    "model.compile(\n",
    "    loss = \"binary_crossentropy\",\n",
    "    optimizer = optimizer,\n",
    "    metrics = [\"accuracy\"]\n",
    ")"
   ]
  },
  {
   "cell_type": "code",
   "execution_count": 120,
   "metadata": {
    "execution": {
     "iopub.execute_input": "2021-05-20T20:41:00.778530Z",
     "iopub.status.busy": "2021-05-20T20:41:00.778199Z",
     "iopub.status.idle": "2021-05-20T20:41:00.783283Z",
     "shell.execute_reply": "2021-05-20T20:41:00.782061Z",
     "shell.execute_reply.started": "2021-05-20T20:41:00.778497Z"
    }
   },
   "outputs": [],
   "source": [
    "filepath = 'my_checkpoint.ckpt'\n",
    "cp = ModelCheckpoint(\n",
    "    filepath=filepath,\n",
    "    save_weights_only=True,\n",
    "    save_best_only=True,\n",
    "    monitor='val_accuracy',\n",
    "    verbose=1\n",
    ")"
   ]
  },
  {
   "cell_type": "code",
   "execution_count": 121,
   "metadata": {
    "execution": {
     "iopub.execute_input": "2021-05-20T20:41:01.305825Z",
     "iopub.status.busy": "2021-05-20T20:41:01.305445Z",
     "iopub.status.idle": "2021-05-20T20:41:01.309908Z",
     "shell.execute_reply": "2021-05-20T20:41:01.308840Z",
     "shell.execute_reply.started": "2021-05-20T20:41:01.305779Z"
    }
   },
   "outputs": [],
   "source": [
    "ep = EarlyStopping(\n",
    "    monitor='val_accuracy', \n",
    "    patience=7,\n",
    ")"
   ]
  },
  {
   "cell_type": "markdown",
   "metadata": {},
   "source": [
    "### Model Training"
   ]
  },
  {
   "cell_type": "code",
   "execution_count": 122,
   "metadata": {
    "execution": {
     "iopub.execute_input": "2021-05-20T20:41:01.936159Z",
     "iopub.status.busy": "2021-05-20T20:41:01.935133Z",
     "iopub.status.idle": "2021-05-20T20:41:29.052074Z",
     "shell.execute_reply": "2021-05-20T20:41:29.051188Z",
     "shell.execute_reply.started": "2021-05-20T20:41:01.936101Z"
    }
   },
   "outputs": [
    {
     "name": "stdout",
     "output_type": "stream",
     "text": [
      "Epoch 1/25\n",
      "39/39 [==============================] - 4s 53ms/step - loss: 0.6867 - accuracy: 0.5482 - val_loss: 0.6826 - val_accuracy: 0.5599\n",
      "\n",
      "Epoch 00001: val_accuracy improved from -inf to 0.55993, saving model to my_checkpoint.ckpt\n",
      "Epoch 2/25\n",
      "39/39 [==============================] - 2s 44ms/step - loss: 0.6752 - accuracy: 0.5811 - val_loss: 0.6718 - val_accuracy: 0.5599\n",
      "\n",
      "Epoch 00002: val_accuracy did not improve from 0.55993\n",
      "Epoch 3/25\n",
      "39/39 [==============================] - 2s 43ms/step - loss: 0.6578 - accuracy: 0.5812 - val_loss: 0.6380 - val_accuracy: 0.6617\n",
      "\n",
      "Epoch 00003: val_accuracy improved from 0.55993 to 0.66174, saving model to my_checkpoint.ckpt\n",
      "Epoch 4/25\n",
      "39/39 [==============================] - 2s 43ms/step - loss: 0.6077 - accuracy: 0.7127 - val_loss: 0.5558 - val_accuracy: 0.7603\n",
      "\n",
      "Epoch 00004: val_accuracy improved from 0.66174 to 0.76026, saving model to my_checkpoint.ckpt\n",
      "Epoch 5/25\n",
      "39/39 [==============================] - 2s 43ms/step - loss: 0.4554 - accuracy: 0.8302 - val_loss: 0.4794 - val_accuracy: 0.8038\n",
      "\n",
      "Epoch 00005: val_accuracy improved from 0.76026 to 0.80378, saving model to my_checkpoint.ckpt\n",
      "Epoch 6/25\n",
      "39/39 [==============================] - 2s 49ms/step - loss: 0.2825 - accuracy: 0.8942 - val_loss: 0.5026 - val_accuracy: 0.8054\n",
      "\n",
      "Epoch 00006: val_accuracy improved from 0.80378 to 0.80542, saving model to my_checkpoint.ckpt\n",
      "Epoch 7/25\n",
      "39/39 [==============================] - 2s 43ms/step - loss: 0.1925 - accuracy: 0.9257 - val_loss: 0.5420 - val_accuracy: 0.8095\n",
      "\n",
      "Epoch 00007: val_accuracy improved from 0.80542 to 0.80952, saving model to my_checkpoint.ckpt\n",
      "Epoch 8/25\n",
      "39/39 [==============================] - 2s 43ms/step - loss: 0.1484 - accuracy: 0.9475 - val_loss: 0.5913 - val_accuracy: 0.7915\n",
      "\n",
      "Epoch 00008: val_accuracy did not improve from 0.80952\n",
      "Epoch 9/25\n",
      "39/39 [==============================] - 2s 43ms/step - loss: 0.1165 - accuracy: 0.9621 - val_loss: 0.6631 - val_accuracy: 0.7734\n",
      "\n",
      "Epoch 00009: val_accuracy did not improve from 0.80952\n",
      "Epoch 10/25\n",
      "39/39 [==============================] - 2s 43ms/step - loss: 0.0852 - accuracy: 0.9679 - val_loss: 0.7745 - val_accuracy: 0.7980\n",
      "\n",
      "Epoch 00010: val_accuracy did not improve from 0.80952\n",
      "Epoch 11/25\n",
      "39/39 [==============================] - 2s 42ms/step - loss: 0.0771 - accuracy: 0.9700 - val_loss: 0.8313 - val_accuracy: 0.7537\n",
      "\n",
      "Epoch 00011: val_accuracy did not improve from 0.80952\n",
      "Epoch 12/25\n",
      "39/39 [==============================] - 2s 44ms/step - loss: 0.0562 - accuracy: 0.9781 - val_loss: 0.9130 - val_accuracy: 0.7791\n",
      "\n",
      "Epoch 00012: val_accuracy did not improve from 0.80952\n",
      "Epoch 13/25\n",
      "39/39 [==============================] - 2s 47ms/step - loss: 0.0555 - accuracy: 0.9783 - val_loss: 1.0001 - val_accuracy: 0.7562\n",
      "\n",
      "Epoch 00013: val_accuracy did not improve from 0.80952\n",
      "Epoch 14/25\n",
      "39/39 [==============================] - 2s 42ms/step - loss: 0.0430 - accuracy: 0.9821 - val_loss: 1.0871 - val_accuracy: 0.7496\n",
      "\n",
      "Epoch 00014: val_accuracy did not improve from 0.80952\n"
     ]
    }
   ],
   "source": [
    "epochs=25\n",
    "history = model.fit(\n",
    "    X_train_padded, y_train,\n",
    "    validation_split = 0.2,\n",
    "    callbacks=[cp,ep],\n",
    "    batch_size=128,\n",
    "    epochs=epochs\n",
    ")"
   ]
  },
  {
   "cell_type": "markdown",
   "metadata": {},
   "source": [
    "### Graphs"
   ]
  },
  {
   "cell_type": "code",
   "execution_count": 123,
   "metadata": {
    "execution": {
     "iopub.execute_input": "2021-05-20T20:41:35.180835Z",
     "iopub.status.busy": "2021-05-20T20:41:35.180381Z",
     "iopub.status.idle": "2021-05-20T20:41:35.506258Z",
     "shell.execute_reply": "2021-05-20T20:41:35.505312Z",
     "shell.execute_reply.started": "2021-05-20T20:41:35.180793Z"
    }
   },
   "outputs": [
    {
     "name": "stdout",
     "output_type": "stream",
     "text": [
      "dict_keys(['loss', 'accuracy', 'val_loss', 'val_accuracy'])\n"
     ]
    },
    {
     "data": {
      "image/png": "[encoded data removed]",
      "text/plain": [
       "<Figure size 432x288 with 1 Axes>"
      ]
     },
     "metadata": {
      "needs_background": "light"
     },
     "output_type": "display_data"
    },
    {
     "data": {
      "image/png": "[encoded data removed]",
      "text/plain": [
       "<Figure size 432x288 with 1 Axes>"
      ]
     },
     "metadata": {
      "needs_background": "light"
     },
     "output_type": "display_data"
    }
   ],
   "source": [
    "print(history.history.keys())\n",
    "plt.axes().set(facecolor =\"white\")\n",
    "plt.plot(history.history['accuracy'],color='c')\n",
    "plt.plot(history.history['val_accuracy'],color='m')\n",
    "plt.title('model accuracy').set_color('white')\n",
    "plt.ylabel('accuracy').set_color('white')\n",
    "plt.xlabel('epoch').set_color('white')\n",
    "plt.legend(['train', 'validation'], loc='upper left')\n",
    "\n",
    "plt.show()\n",
    "\n",
    "plt.axes().set(facecolor =\"white\")\n",
    "plt.plot(history.history['loss'])\n",
    "plt.plot(history.history['val_loss'])\n",
    "plt.legend(['train', 'validation'], loc='upper left')\n",
    "plt.title('model loss').set_color('white')\n",
    "plt.ylabel('loss').set_color('white')\n",
    "plt.xlabel('epoch').set_color('white')\n",
    "plt.show()"
   ]
  },
  {
   "cell_type": "markdown",
   "metadata": {},
   "source": [
    "### Model Evaluation"
   ]
  },
  {
   "cell_type": "code",
   "execution_count": 135,
   "metadata": {
    "execution": {
     "iopub.execute_input": "2021-05-20T20:42:15.519008Z",
     "iopub.status.busy": "2021-05-20T20:42:15.518686Z",
     "iopub.status.idle": "2021-05-20T20:42:15.570980Z",
     "shell.execute_reply": "2021-05-20T20:42:15.570223Z",
     "shell.execute_reply.started": "2021-05-20T20:42:15.518981Z"
    }
   },
   "outputs": [
    {
     "data": {
      "text/plain": [
       "<tensorflow.python.training.tracking.util.CheckpointLoadStatus at 0x7f68a816cb10>"
      ]
     },
     "execution_count": 135,
     "metadata": {},
     "output_type": "execute_result"
    }
   ],
   "source": [
    "model.load_weights(filepath)"
   ]
  },
  {
   "cell_type": "code",
   "execution_count": 125,
   "metadata": {
    "execution": {
     "iopub.execute_input": "2021-05-20T20:41:45.852551Z",
     "iopub.status.busy": "2021-05-20T20:41:45.852185Z",
     "iopub.status.idle": "2021-05-20T20:41:46.114674Z",
     "shell.execute_reply": "2021-05-20T20:41:46.113903Z",
     "shell.execute_reply.started": "2021-05-20T20:41:45.852519Z"
    }
   },
   "outputs": [
    {
     "name": "stdout",
     "output_type": "stream",
     "text": [
      "48/48 [==============================] - 0s 4ms/step - loss: 0.5242 - accuracy: 0.8050\n"
     ]
    },
    {
     "data": {
      "text/plain": [
       "[0.5241948366165161, 0.8049901723861694]"
      ]
     },
     "execution_count": 125,
     "metadata": {},
     "output_type": "execute_result"
    }
   ],
   "source": [
    "model.evaluate(X_test_padded, y_test)"
   ]
  },
  {
   "cell_type": "markdown",
   "metadata": {},
   "source": [
    "### Model Saving"
   ]
  },
  {
   "cell_type": "code",
   "execution_count": null,
   "metadata": {
    "execution": {
     "iopub.execute_input": "2021-05-20T10:16:25.220209Z",
     "iopub.status.busy": "2021-05-20T10:16:25.219895Z",
     "iopub.status.idle": "2021-05-20T10:16:25.300508Z",
     "shell.execute_reply": "2021-05-20T10:16:25.299601Z",
     "shell.execute_reply.started": "2021-05-20T10:16:25.220181Z"
    }
   },
   "outputs": [],
   "source": [
    "model.save('./model/model_ver5.h5')"
   ]
  },
  {
   "cell_type": "markdown",
   "metadata": {},
   "source": [
    "### Model Loading"
   ]
  },
  {
   "cell_type": "code",
   "execution_count": null,
   "metadata": {
    "execution": {
     "iopub.execute_input": "2021-05-20T10:09:35.260474Z",
     "iopub.status.busy": "2021-05-20T10:09:35.260121Z",
     "iopub.status.idle": "2021-05-20T10:09:36.235342Z",
     "shell.execute_reply": "2021-05-20T10:09:36.234512Z",
     "shell.execute_reply.started": "2021-05-20T10:09:35.260443Z"
    }
   },
   "outputs": [],
   "source": [
    "mymodel = tf.keras.models.load_model('./model/model_ver5.h5')"
   ]
  },
  {
   "cell_type": "code",
   "execution_count": null,
   "metadata": {
    "execution": {
     "iopub.execute_input": "2021-05-20T10:09:38.921344Z",
     "iopub.status.busy": "2021-05-20T10:09:38.921025Z",
     "iopub.status.idle": "2021-05-20T10:09:38.931682Z",
     "shell.execute_reply": "2021-05-20T10:09:38.930367Z",
     "shell.execute_reply.started": "2021-05-20T10:09:38.921315Z"
    }
   },
   "outputs": [],
   "source": [
    "mymodel.summary()"
   ]
  },
  {
   "cell_type": "markdown",
   "metadata": {},
   "source": [
    "### Predicting Test Data"
   ]
  },
  {
   "cell_type": "code",
   "execution_count": 126,
   "metadata": {
    "execution": {
     "iopub.execute_input": "2021-05-20T20:41:50.474321Z",
     "iopub.status.busy": "2021-05-20T20:41:50.474007Z",
     "iopub.status.idle": "2021-05-20T20:41:50.929058Z",
     "shell.execute_reply": "2021-05-20T20:41:50.928208Z",
     "shell.execute_reply.started": "2021-05-20T20:41:50.474291Z"
    }
   },
   "outputs": [],
   "source": [
    "predictions = model.predict_classes(X_test_padded)"
   ]
  },
  {
   "cell_type": "markdown",
   "metadata": {},
   "source": [
    "### Accuracy"
   ]
  },
  {
   "cell_type": "code",
   "execution_count": 127,
   "metadata": {
    "execution": {
     "iopub.execute_input": "2021-05-20T20:41:52.636851Z",
     "iopub.status.busy": "2021-05-20T20:41:52.636525Z",
     "iopub.status.idle": "2021-05-20T20:41:52.643869Z",
     "shell.execute_reply": "2021-05-20T20:41:52.641355Z",
     "shell.execute_reply.started": "2021-05-20T20:41:52.636816Z"
    }
   },
   "outputs": [
    {
     "name": "stdout",
     "output_type": "stream",
     "text": [
      "Testing Accuracy:  0.8049901510177282\n"
     ]
    }
   ],
   "source": [
    "accuracy = accuracy_score(y_test, predictions)\n",
    "print(\"Testing Accuracy: \", accuracy)"
   ]
  },
  {
   "cell_type": "markdown",
   "metadata": {},
   "source": [
    "### Confusion Matrix"
   ]
  },
  {
   "cell_type": "code",
   "execution_count": 134,
   "metadata": {
    "execution": {
     "iopub.execute_input": "2021-05-20T20:42:08.660153Z",
     "iopub.status.busy": "2021-05-20T20:42:08.659823Z",
     "iopub.status.idle": "2021-05-20T20:42:08.874883Z",
     "shell.execute_reply": "2021-05-20T20:42:08.873866Z",
     "shell.execute_reply.started": "2021-05-20T20:42:08.660122Z"
    }
   },
   "outputs": [
    {
     "name": "stdout",
     "output_type": "stream",
     "text": [
      "Confusion Matrix\n",
      "AxesSubplot(0.125,0.125;0.62x0.755)\n",
      "              precision    recall  f1-score   support\n",
      "\n",
      "           0    0.79691   0.88545   0.83885       873\n",
      "           1    0.81917   0.69692   0.75312       650\n",
      "\n",
      "    accuracy                        0.80499      1523\n",
      "   macro avg    0.80804   0.79119   0.79598      1523\n",
      "weighted avg    0.80641   0.80499   0.80226      1523\n",
      "\n"
     ]
    },
    {
     "data": {
      "image/png": "[encoded data removed]",
      "text/plain": [
       "<Figure size 432x288 with 2 Axes>"
      ]
     },
     "metadata": {
      "needs_background": "light"
     },
     "output_type": "display_data"
    }
   ],
   "source": [
    "print('Confusion Matrix')\n",
    "cm = confusion_matrix(y_test, predictions)\n",
    "print(sns.heatmap(confusion_matrix(y_test, predictions),annot=True,fmt=\"d\"))\n",
    "print(classification_report(y_test, predictions, digits=5))"
   ]
  },
  {
   "cell_type": "markdown",
   "metadata": {},
   "source": [
    "### Predicting new tweets"
   ]
  },
  {
   "cell_type": "code",
   "execution_count": 148,
   "metadata": {
    "execution": {
     "iopub.execute_input": "2021-05-20T20:44:21.353757Z",
     "iopub.status.busy": "2021-05-20T20:44:21.353404Z",
     "iopub.status.idle": "2021-05-20T20:44:21.360617Z",
     "shell.execute_reply": "2021-05-20T20:44:21.359677Z",
     "shell.execute_reply.started": "2021-05-20T20:44:21.353725Z"
    }
   },
   "outputs": [],
   "source": [
    "def preprocess_tweet(new_tweet):    \n",
    "    new_tweet = new_tweet.lower()\n",
    "    new_tweet = re.sub('[^\\w\\s]', '', new_tweet)\n",
    "    new_tweet = re.sub('\\d', '', new_tweet)\n",
    "\n",
    "    new_tweet = \" \".join(x for x in new_tweet.split() if x not in sw)\n",
    "    new_tweet = \" \".join([Word(word).lemmatize() for word in new_tweet.split()])\n",
    "    print(\"AFTER PRE-PROCESSING:\", new_tweet)\n",
    "    \n",
    "    tokenizer.fit_on_texts(new_tweet)\n",
    "\n",
    "    new_tweet = tokenizer.texts_to_sequences([new_tweet])\n",
    "\n",
    "    new_tweet =  pad_sequences(new_tweet, maxlen=max_length, truncating=trunc_type, padding=pad_type)\n",
    "\n",
    "    return new_tweet\n",
    "\n",
    "def predict_newTweet(tweet):\n",
    "    print(\"Input Tweet: \", tweet)\n",
    "    emb_tweet = preprocess_tweet(tweet)\n",
    "    result = model.predict_classes(emb_tweet)\n",
    "#     print(result)\n",
    "    print(\"RESULT: \" + \"Real News\" if result[0][0] == 1 else \"Fake News\")\n"
   ]
  },
  {
   "cell_type": "code",
   "execution_count": 151,
   "metadata": {
    "execution": {
     "iopub.execute_input": "2021-05-20T20:44:48.963673Z",
     "iopub.status.busy": "2021-05-20T20:44:48.963278Z",
     "iopub.status.idle": "2021-05-20T20:44:49.023514Z",
     "shell.execute_reply": "2021-05-20T20:44:49.022664Z",
     "shell.execute_reply.started": "2021-05-20T20:44:48.963642Z"
    }
   },
   "outputs": [
    {
     "name": "stdout",
     "output_type": "stream",
     "text": [
      "Input Tweet:  Fires start in apartment buildings in Chicago; injuring 20 civilians #CNN\n",
      "AFTER PRE-PROCESSING: fire start apartment building chicago injuring civilian cnn\n",
      "RESULT: Real News\n"
     ]
    }
   ],
   "source": [
    "new_tweet = \"Fires start in apartment buildings in Chicago; injuring 20 civilians #CNN\"\n",
    "predict_newTweet(new_tweet)"
   ]
  },
  {
   "cell_type": "code",
   "execution_count": 153,
   "metadata": {
    "execution": {
     "iopub.execute_input": "2021-05-20T20:45:00.388015Z",
     "iopub.status.busy": "2021-05-20T20:45:00.387682Z",
     "iopub.status.idle": "2021-05-20T20:45:00.446083Z",
     "shell.execute_reply": "2021-05-20T20:45:00.445300Z",
     "shell.execute_reply.started": "2021-05-20T20:45:00.387986Z"
    }
   },
   "outputs": [
    {
     "name": "stdout",
     "output_type": "stream",
     "text": [
      "Input Tweet:  hello this is a random tweet :)\n",
      "AFTER PRE-PROCESSING: hello random tweet\n",
      "Fake News\n"
     ]
    }
   ],
   "source": [
    "new_tweet = \"hello this is a random tweet :)\"\n",
    "predict_newTweet(new_tweet)"
   ]
  },
  {
   "cell_type": "code",
   "execution_count": null,
   "metadata": {},
   "outputs": [],
   "source": []
  }
 ],
 "metadata": {
  "kernelspec": {
   "display_name": "Python 3",
   "language": "python",
   "name": "python3"
  },
  "language_info": {
   "codemirror_mode": {
    "name": "ipython",
    "version": 3
   },
   "file_extension": ".py",
   "mimetype": "text/x-python",
   "name": "python",
   "nbconvert_exporter": "python",
   "pygments_lexer": "ipython3",
   "version": "3.7.9"
  }
 },
 "nbformat": 4,
 "nbformat_minor": 4
}
